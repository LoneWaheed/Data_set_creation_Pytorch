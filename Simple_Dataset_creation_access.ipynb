{
 "cells": [
  {
   "cell_type": "code",
   "execution_count": 2,
   "metadata": {},
   "outputs": [
    {
     "data": {
      "text/plain": [
       "<torch._C.Generator at 0x58a0600>"
      ]
     },
     "execution_count": 2,
     "metadata": {},
     "output_type": "execute_result"
    }
   ],
   "source": [
    "#in this notebook, i will construct a basic dataset by using PyTorch and learn how to apply basic transformations to it\n",
    "\n",
    "import torch\n",
    "from torch.utils.data import Dataset\n",
    "torch.manual_seed(1)\n"
   ]
  },
  {
   "cell_type": "code",
   "execution_count": 3,
   "metadata": {},
   "outputs": [],
   "source": [
    "#simple dataset.\n",
    "#let us creat our own dataset class\n",
    "#define class for dataset\n",
    "class toy_set(Dataset):\n",
    "    #constructor with default values\n",
    "    def __init__(self,length=100,transform=None):\n",
    "        self.len=length\n",
    "        self.x=2*torch.ones(length,2)\n",
    "        self.y=torch.ones(length,1)\n",
    "        self.transform=transform\n",
    "        \n",
    "    #getter\n",
    "    def __getitem__(self,index):\n",
    "        sample=self.x[index],self.y[index]\n",
    "        if self.transform:\n",
    "            sample=self.transform(sample)\n",
    "        return sample\n",
    "    #get length\n",
    "    def __len__(self):\n",
    "        return self.len\n",
    "    \n",
    "    "
   ]
  },
  {
   "cell_type": "code",
   "execution_count": 5,
   "metadata": {},
   "outputs": [
    {
     "name": "stdout",
     "output_type": "stream",
     "text": [
      "our toy_set object:  <__main__.toy_set object at 0x0000000009731F28>\n",
      "value on index 0 of our toy_set object: <__main__.toy_set object at 0x0000000009731F28>\n",
      "our toy_set length:  100\n"
     ]
    }
   ],
   "source": [
    "#now let us create out toy_set object and find out the value on index 1 and the length f the initail dataset\n",
    "our_dataset=toy_set()\n",
    "print(\"our toy_set object: \", our_dataset)\n",
    "print(\"value on index 0 of our toy_set object:\",our_dataset)\n",
    "print(\"our toy_set length: \", len(our_dataset))\n",
    "\n"
   ]
  },
  {
   "cell_type": "code",
   "execution_count": 7,
   "metadata": {},
   "outputs": [
    {
     "name": "stdout",
     "output_type": "stream",
     "text": [
      "index:  0 ;x: tensor([2., 2.]) ;y: tensor([1.])\n",
      "index:  1 ;x: tensor([2., 2.]) ;y: tensor([1.])\n",
      "index:  2 ;x: tensor([2., 2.]) ;y: tensor([1.])\n"
     ]
    }
   ],
   "source": [
    "#printing the first three elements in dataset\n",
    "for i in range(3):\n",
    "    x,y=our_dataset[i]\n",
    "    print(\"index: \",i, ';x:',x, ';y:',y)"
   ]
  },
  {
   "cell_type": "code",
   "execution_count": 8,
   "metadata": {},
   "outputs": [
    {
     "name": "stdout",
     "output_type": "stream",
     "text": [
      " x:  tensor([2., 2.]) y: tensor([1.])\n",
      " x:  tensor([2., 2.]) y: tensor([1.])\n",
      " x:  tensor([2., 2.]) y: tensor([1.])\n",
      " x:  tensor([2., 2.]) y: tensor([1.])\n",
      " x:  tensor([2., 2.]) y: tensor([1.])\n",
      " x:  tensor([2., 2.]) y: tensor([1.])\n",
      " x:  tensor([2., 2.]) y: tensor([1.])\n",
      " x:  tensor([2., 2.]) y: tensor([1.])\n",
      " x:  tensor([2., 2.]) y: tensor([1.])\n",
      " x:  tensor([2., 2.]) y: tensor([1.])\n",
      " x:  tensor([2., 2.]) y: tensor([1.])\n",
      " x:  tensor([2., 2.]) y: tensor([1.])\n",
      " x:  tensor([2., 2.]) y: tensor([1.])\n",
      " x:  tensor([2., 2.]) y: tensor([1.])\n",
      " x:  tensor([2., 2.]) y: tensor([1.])\n",
      " x:  tensor([2., 2.]) y: tensor([1.])\n",
      " x:  tensor([2., 2.]) y: tensor([1.])\n",
      " x:  tensor([2., 2.]) y: tensor([1.])\n",
      " x:  tensor([2., 2.]) y: tensor([1.])\n",
      " x:  tensor([2., 2.]) y: tensor([1.])\n",
      " x:  tensor([2., 2.]) y: tensor([1.])\n",
      " x:  tensor([2., 2.]) y: tensor([1.])\n",
      " x:  tensor([2., 2.]) y: tensor([1.])\n",
      " x:  tensor([2., 2.]) y: tensor([1.])\n",
      " x:  tensor([2., 2.]) y: tensor([1.])\n",
      " x:  tensor([2., 2.]) y: tensor([1.])\n",
      " x:  tensor([2., 2.]) y: tensor([1.])\n",
      " x:  tensor([2., 2.]) y: tensor([1.])\n",
      " x:  tensor([2., 2.]) y: tensor([1.])\n",
      " x:  tensor([2., 2.]) y: tensor([1.])\n",
      " x:  tensor([2., 2.]) y: tensor([1.])\n",
      " x:  tensor([2., 2.]) y: tensor([1.])\n",
      " x:  tensor([2., 2.]) y: tensor([1.])\n",
      " x:  tensor([2., 2.]) y: tensor([1.])\n",
      " x:  tensor([2., 2.]) y: tensor([1.])\n",
      " x:  tensor([2., 2.]) y: tensor([1.])\n",
      " x:  tensor([2., 2.]) y: tensor([1.])\n",
      " x:  tensor([2., 2.]) y: tensor([1.])\n",
      " x:  tensor([2., 2.]) y: tensor([1.])\n",
      " x:  tensor([2., 2.]) y: tensor([1.])\n",
      " x:  tensor([2., 2.]) y: tensor([1.])\n",
      " x:  tensor([2., 2.]) y: tensor([1.])\n",
      " x:  tensor([2., 2.]) y: tensor([1.])\n",
      " x:  tensor([2., 2.]) y: tensor([1.])\n",
      " x:  tensor([2., 2.]) y: tensor([1.])\n",
      " x:  tensor([2., 2.]) y: tensor([1.])\n",
      " x:  tensor([2., 2.]) y: tensor([1.])\n",
      " x:  tensor([2., 2.]) y: tensor([1.])\n",
      " x:  tensor([2., 2.]) y: tensor([1.])\n",
      " x:  tensor([2., 2.]) y: tensor([1.])\n",
      " x:  tensor([2., 2.]) y: tensor([1.])\n",
      " x:  tensor([2., 2.]) y: tensor([1.])\n",
      " x:  tensor([2., 2.]) y: tensor([1.])\n",
      " x:  tensor([2., 2.]) y: tensor([1.])\n",
      " x:  tensor([2., 2.]) y: tensor([1.])\n",
      " x:  tensor([2., 2.]) y: tensor([1.])\n",
      " x:  tensor([2., 2.]) y: tensor([1.])\n",
      " x:  tensor([2., 2.]) y: tensor([1.])\n",
      " x:  tensor([2., 2.]) y: tensor([1.])\n",
      " x:  tensor([2., 2.]) y: tensor([1.])\n",
      " x:  tensor([2., 2.]) y: tensor([1.])\n",
      " x:  tensor([2., 2.]) y: tensor([1.])\n",
      " x:  tensor([2., 2.]) y: tensor([1.])\n",
      " x:  tensor([2., 2.]) y: tensor([1.])\n",
      " x:  tensor([2., 2.]) y: tensor([1.])\n",
      " x:  tensor([2., 2.]) y: tensor([1.])\n",
      " x:  tensor([2., 2.]) y: tensor([1.])\n",
      " x:  tensor([2., 2.]) y: tensor([1.])\n",
      " x:  tensor([2., 2.]) y: tensor([1.])\n",
      " x:  tensor([2., 2.]) y: tensor([1.])\n",
      " x:  tensor([2., 2.]) y: tensor([1.])\n",
      " x:  tensor([2., 2.]) y: tensor([1.])\n",
      " x:  tensor([2., 2.]) y: tensor([1.])\n",
      " x:  tensor([2., 2.]) y: tensor([1.])\n",
      " x:  tensor([2., 2.]) y: tensor([1.])\n",
      " x:  tensor([2., 2.]) y: tensor([1.])\n",
      " x:  tensor([2., 2.]) y: tensor([1.])\n",
      " x:  tensor([2., 2.]) y: tensor([1.])\n",
      " x:  tensor([2., 2.]) y: tensor([1.])\n",
      " x:  tensor([2., 2.]) y: tensor([1.])\n",
      " x:  tensor([2., 2.]) y: tensor([1.])\n",
      " x:  tensor([2., 2.]) y: tensor([1.])\n",
      " x:  tensor([2., 2.]) y: tensor([1.])\n",
      " x:  tensor([2., 2.]) y: tensor([1.])\n",
      " x:  tensor([2., 2.]) y: tensor([1.])\n",
      " x:  tensor([2., 2.]) y: tensor([1.])\n",
      " x:  tensor([2., 2.]) y: tensor([1.])\n",
      " x:  tensor([2., 2.]) y: tensor([1.])\n",
      " x:  tensor([2., 2.]) y: tensor([1.])\n",
      " x:  tensor([2., 2.]) y: tensor([1.])\n",
      " x:  tensor([2., 2.]) y: tensor([1.])\n",
      " x:  tensor([2., 2.]) y: tensor([1.])\n",
      " x:  tensor([2., 2.]) y: tensor([1.])\n",
      " x:  tensor([2., 2.]) y: tensor([1.])\n",
      " x:  tensor([2., 2.]) y: tensor([1.])\n",
      " x:  tensor([2., 2.]) y: tensor([1.])\n",
      " x:  tensor([2., 2.]) y: tensor([1.])\n",
      " x:  tensor([2., 2.]) y: tensor([1.])\n",
      " x:  tensor([2., 2.]) y: tensor([1.])\n",
      " x:  tensor([2., 2.]) y: tensor([1.])\n"
     ]
    }
   ],
   "source": [
    "#we know dataset is iterable ,so we can loop over it\n",
    "for x,y in our_dataset:\n",
    "    print(' x: ',x,'y:',y)"
   ]
  },
  {
   "cell_type": "code",
   "execution_count": 21,
   "metadata": {},
   "outputs": [
    {
     "name": "stdout",
     "output_type": "stream",
     "text": [
      "my toy-set length:  50\n"
     ]
    }
   ],
   "source": [
    "#try to create a toy_set of length 50 and print the length\n",
    "my_dataset=toy_set(length=50)\n",
    "print(\"my toy-set length: \",len(my_dataset))"
   ]
  },
  {
   "cell_type": "code",
   "execution_count": 31,
   "metadata": {},
   "outputs": [],
   "source": [
    "#transforms\n",
    "#we create a class for transforming the data: In this case ,we will try to add  to x and multiply y by 2\n",
    "#create transform class add_mult\n",
    "class add_mult(object):\n",
    "    #constructor\n",
    "    def __init__(self,addx=1,muly=2):\n",
    "        self.addx=addx\n",
    "        self.muly=muly\n",
    "    #executor\n",
    "    def __call__(self,sample):\n",
    "        x=sample[0]\n",
    "        y=sample[1]\n",
    "        x=x+ self.addx\n",
    "        y=y* self.muly\n",
    "        sample=x,y\n",
    "        return sample\n",
    "    \n",
    "        "
   ]
  },
  {
   "cell_type": "code",
   "execution_count": 32,
   "metadata": {},
   "outputs": [],
   "source": [
    "#now create a transform object \n",
    "a_m=add_mult()\n",
    "data_set=toy_set()"
   ]
  },
  {
   "cell_type": "code",
   "execution_count": 33,
   "metadata": {},
   "outputs": [
    {
     "name": "stdout",
     "output_type": "stream",
     "text": [
      "Index:  0 Original x:  tensor([2., 2.]) Original y:  tensor([1.])\n",
      "Index:  0 Transformed x_: tensor([3., 3.]) Transformed y_: tensor([2.])\n",
      "Index:  1 Original x:  tensor([2., 2.]) Original y:  tensor([1.])\n",
      "Index:  1 Transformed x_: tensor([3., 3.]) Transformed y_: tensor([2.])\n",
      "Index:  2 Original x:  tensor([2., 2.]) Original y:  tensor([1.])\n",
      "Index:  2 Transformed x_: tensor([3., 3.]) Transformed y_: tensor([2.])\n",
      "Index:  3 Original x:  tensor([2., 2.]) Original y:  tensor([1.])\n",
      "Index:  3 Transformed x_: tensor([3., 3.]) Transformed y_: tensor([2.])\n",
      "Index:  4 Original x:  tensor([2., 2.]) Original y:  tensor([1.])\n",
      "Index:  4 Transformed x_: tensor([3., 3.]) Transformed y_: tensor([2.])\n",
      "Index:  5 Original x:  tensor([2., 2.]) Original y:  tensor([1.])\n",
      "Index:  5 Transformed x_: tensor([3., 3.]) Transformed y_: tensor([2.])\n",
      "Index:  6 Original x:  tensor([2., 2.]) Original y:  tensor([1.])\n",
      "Index:  6 Transformed x_: tensor([3., 3.]) Transformed y_: tensor([2.])\n",
      "Index:  7 Original x:  tensor([2., 2.]) Original y:  tensor([1.])\n",
      "Index:  7 Transformed x_: tensor([3., 3.]) Transformed y_: tensor([2.])\n",
      "Index:  8 Original x:  tensor([2., 2.]) Original y:  tensor([1.])\n",
      "Index:  8 Transformed x_: tensor([3., 3.]) Transformed y_: tensor([2.])\n",
      "Index:  9 Original x:  tensor([2., 2.]) Original y:  tensor([1.])\n",
      "Index:  9 Transformed x_: tensor([3., 3.]) Transformed y_: tensor([2.])\n"
     ]
    }
   ],
   "source": [
    "#assign the output of the original datasets to x and y\n",
    "#output the transform resutls as x_ and y_\n",
    "\n",
    "for i in range(10):\n",
    "    x, y = data_set[i]\n",
    "    print('Index: ', i, 'Original x: ', x, 'Original y: ', y)\n",
    "    x_, y_ = a_m(data_set[i])\n",
    "    print('Index: ', i, 'Transformed x_:', x_, 'Transformed y_:', y_)\n",
    "    "
   ]
  },
  {
   "cell_type": "code",
   "execution_count": 36,
   "metadata": {},
   "outputs": [
    {
     "name": "stdout",
     "output_type": "stream",
     "text": [
      "Index:  0 Transformed x_: tensor([40., 40.]) Transformed y_: tensor([110.])\n",
      "Index:  1 Transformed x_: tensor([40., 40.]) Transformed y_: tensor([110.])\n",
      "Index:  2 Transformed x_: tensor([40., 40.]) Transformed y_: tensor([110.])\n"
     ]
    }
   ],
   "source": [
    "# Practice: Construct your own my_add_mult transform. Apply my_add_mult on a new toy_set object. Print out the first three elements from the transformed dataset.\n",
    "class my_add_mult(object):\n",
    "    #constructor\n",
    "    def __init__(self,add=2,mul=10):\n",
    "        self.add=add\n",
    "        self.mul=mul\n",
    "    def __call__(self,sample):\n",
    "        x=sample[0]\n",
    "        y=sample[1]\n",
    "        x=x+self.add\n",
    "        y=y+self.mul\n",
    "        x=x*self.mul\n",
    "        y=y*self.mul\n",
    "        sample=x,y\n",
    "        return sample\n",
    "    \n",
    "my_dataset=toy_set(transform=my_add_mult())\n",
    "for i in range(3):\n",
    "    x_, y_ = my_dataset[i]\n",
    "    print('Index: ', i, 'Transformed x_:', x_, 'Transformed y_:', y_)\n",
    "    \n",
    "        \n",
    "        "
   ]
  },
  {
   "cell_type": "code",
   "execution_count": 39,
   "metadata": {},
   "outputs": [],
   "source": [
    "#multiple tranforms in the dataset object\n",
    "from torchvision import transforms\n",
    "#create new transfrom class that multiplies each element by 100\n",
    "#create transform class mult\n",
    "class mult(object):\n",
    "    #constructor\n",
    "    def __init__(self,mult=100):\n",
    "        self.mult=100\n",
    "        \n",
    "    #executor\n",
    "    def __call__(self,sample):\n",
    "        x=sample[0]\n",
    "        y=sample[1]\n",
    "        x=x*self.mult\n",
    "        y=y*self.mult\n",
    "        sample=x,y\n",
    "        return sample\n",
    "    "
   ]
  },
  {
   "cell_type": "code",
   "execution_count": 40,
   "metadata": {},
   "outputs": [
    {
     "name": "stdout",
     "output_type": "stream",
     "text": [
      "the combination of transforms (compose):  Compose(\n",
      "    <__main__.add_mult object at 0x0000000009EB1400>\n",
      "    <__main__.mult object at 0x0000000009EB1748>\n",
      ")\n"
     ]
    }
   ],
   "source": [
    "#combine the add_mult()and mult()\n",
    "data_transform=transforms.Compose([add_mult(),mult()])\n",
    "print(\"the combination of transforms (compose): \",data_transform)\n"
   ]
  },
  {
   "cell_type": "code",
   "execution_count": 41,
   "metadata": {},
   "outputs": [
    {
     "name": "stdout",
     "output_type": "stream",
     "text": [
      "original x:  tensor([2., 2.]) original y:  tensor([1.])\n",
      "Transformed x_: tensor([300., 300.]) Transformed y_: tensor([200.])\n"
     ]
    }
   ],
   "source": [
    "#the compose object will perform first add_mult() and mult()\n",
    "data_transform(data_set[0])\n",
    "x,y=data_set[0]\n",
    "x_,y_=data_transform(data_set[0])\n",
    "print('original x: ',x,'original y: ',y )\n",
    "print( 'Transformed x_:', x_, 'Transformed y_:', y_)"
   ]
  },
  {
   "cell_type": "code",
   "execution_count": 43,
   "metadata": {},
   "outputs": [],
   "source": [
    "# Create a new toy_set object with compose object as transform\n",
    "\n",
    "compose_data_set = toy_set(transform = data_transform)"
   ]
  },
  {
   "cell_type": "code",
   "execution_count": 45,
   "metadata": {},
   "outputs": [],
   "source": [
    "cust_data_set = toy_set(transform = a_m)"
   ]
  },
  {
   "cell_type": "code",
   "execution_count": 46,
   "metadata": {},
   "outputs": [
    {
     "name": "stdout",
     "output_type": "stream",
     "text": [
      "Index:  0 Original x:  tensor([2., 2.]) Original y:  tensor([1.])\n",
      "Index:  0 Transformed x_: tensor([3., 3.]) Transformed y_: tensor([2.])\n",
      "Index:  0 Compose Transformed x_co:  tensor([300., 300.]) Compose Transformed y_co:  tensor([200.])\n",
      "Index:  1 Original x:  tensor([2., 2.]) Original y:  tensor([1.])\n",
      "Index:  1 Transformed x_: tensor([3., 3.]) Transformed y_: tensor([2.])\n",
      "Index:  1 Compose Transformed x_co:  tensor([300., 300.]) Compose Transformed y_co:  tensor([200.])\n",
      "Index:  2 Original x:  tensor([2., 2.]) Original y:  tensor([1.])\n",
      "Index:  2 Transformed x_: tensor([3., 3.]) Transformed y_: tensor([2.])\n",
      "Index:  2 Compose Transformed x_co:  tensor([300., 300.]) Compose Transformed y_co:  tensor([200.])\n"
     ]
    }
   ],
   "source": [
    "#print first elements after the transform\n",
    "for i in range(3):\n",
    "    x, y = data_set[i]\n",
    "    print('Index: ', i, 'Original x: ', x, 'Original y: ', y)\n",
    "    x_, y_ = cust_data_set[i]\n",
    "    print('Index: ', i, 'Transformed x_:', x_, 'Transformed y_:', y_)\n",
    "    x_co, y_co = compose_data_set[i]\n",
    "    print('Index: ', i, 'Compose Transformed x_co: ', x_co ,'Compose Transformed y_co: ',y_co)"
   ]
  },
  {
   "cell_type": "code",
   "execution_count": 51,
   "metadata": {},
   "outputs": [
    {
     "name": "stdout",
     "output_type": "stream",
     "text": [
      "the combination of transforms (compose):  Compose(\n",
      "    <__main__.mult object at 0x000000000A1AB668>\n",
      "    <__main__.add_mult object at 0x000000000A1AB6D8>\n",
      ")\n"
     ]
    },
    {
     "data": {
      "text/plain": [
       "(tensor([201., 201.]), tensor([200.]))"
      ]
     },
     "execution_count": 51,
     "metadata": {},
     "output_type": "execute_result"
    }
   ],
   "source": [
    "#practice\n",
    "#combine the methods mult()and add_mult(). Apply mult() first and then do the same procedure as like above\n",
    "data_transform2=transforms.Compose([mult(),add_mult()])\n",
    "print(\"the combination of transforms (compose): \",data_transform2)\n",
    "data_transform2(data_set[0])\n"
   ]
  },
  {
   "cell_type": "code",
   "execution_count": 55,
   "metadata": {},
   "outputs": [
    {
     "name": "stdout",
     "output_type": "stream",
     "text": [
      "Index:  0 Transformed x_: tensor([201., 201.]) Transformed y_: tensor([200.])\n",
      "Index:  1 Transformed x_: tensor([201., 201.]) Transformed y_: tensor([200.])\n",
      "Index:  2 Transformed x_: tensor([201., 201.]) Transformed y_: tensor([200.])\n"
     ]
    }
   ],
   "source": [
    "# Create a new toy_set object with compose object as transform\n",
    "\n",
    "\n",
    "my_compose=transforms.Compose([mult(),add_mult()])\n",
    "my_transformed_dataset = toy_set(transform = my_compose)\n",
    "for i in range(3):\n",
    "    x_, y_ = my_transformed_dataset[i]\n",
    "    print('Index: ', i, 'Transformed x_:', x_, 'Transformed y_:', y_)\n"
   ]
  },
  {
   "cell_type": "code",
   "execution_count": 54,
   "metadata": {},
   "outputs": [
    {
     "name": "stdout",
     "output_type": "stream",
     "text": [
      "Index:  0 Original x:  tensor([2., 2.]) Original y:  tensor([1.])\n",
      "Index:  0 Transformed x_: tensor([3., 3.]) Transformed y_: tensor([2.])\n",
      "Index:  0 Compose Transformed x_co:  tensor([201., 201.]) Compose Transformed y_co:  tensor([200.])\n",
      "Index:  1 Original x:  tensor([2., 2.]) Original y:  tensor([1.])\n",
      "Index:  1 Transformed x_: tensor([3., 3.]) Transformed y_: tensor([2.])\n",
      "Index:  1 Compose Transformed x_co:  tensor([201., 201.]) Compose Transformed y_co:  tensor([200.])\n",
      "Index:  2 Original x:  tensor([2., 2.]) Original y:  tensor([1.])\n",
      "Index:  2 Transformed x_: tensor([3., 3.]) Transformed y_: tensor([2.])\n",
      "Index:  2 Compose Transformed x_co:  tensor([201., 201.]) Compose Transformed y_co:  tensor([200.])\n"
     ]
    }
   ],
   "source": [
    "#compose_data_set2 = toy_set(transform = data_transform2)\n",
    "#or\n",
    "# for i in range(3):\n",
    "#     x, y = data_set[i]\n",
    "#     print('Index: ', i, 'Original x: ', x, 'Original y: ', y)\n",
    "#     x_, y_ = cust_data_set[i]\n",
    "#     print('Index: ', i, 'Transformed x_:', x_, 'Transformed y_:', y_)\n",
    "#     x_co, y_co = compose_data_set2[i]\n",
    "#     print('Index: ', i, 'Compose Transformed x_co: ', x_co ,'Compose Transformed y_co: ',y_co)"
   ]
  },
  {
   "cell_type": "code",
   "execution_count": null,
   "metadata": {},
   "outputs": [],
   "source": []
  }
 ],
 "metadata": {
  "kernelspec": {
   "display_name": "Python 3",
   "language": "python",
   "name": "python3"
  },
  "language_info": {
   "codemirror_mode": {
    "name": "ipython",
    "version": 3
   },
   "file_extension": ".py",
   "mimetype": "text/x-python",
   "name": "python",
   "nbconvert_exporter": "python",
   "pygments_lexer": "ipython3",
   "version": "3.7.3"
  }
 },
 "nbformat": 4,
 "nbformat_minor": 2
}
